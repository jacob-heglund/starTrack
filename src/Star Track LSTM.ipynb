{
 "cells": [
  {
   "cell_type": "code",
   "execution_count": 1,
   "metadata": {},
   "outputs": [
    {
     "name": "stderr",
     "output_type": "stream",
     "text": [
      "C:\\Users\\Jacob\\Anaconda3\\lib\\site-packages\\h5py\\__init__.py:34: FutureWarning: Conversion of the second argument of issubdtype from `float` to `np.floating` is deprecated. In future, it will be treated as `np.float64 == np.dtype(float).type`.\n",
      "  from ._conv import register_converters as _register_converters\n",
      "Using TensorFlow backend.\n"
     ]
    }
   ],
   "source": [
    "from keras.models import Sequential\n",
    "from keras.layers import Dense\n",
    "from keras.layers import LSTM\n",
    "from sklearn.model_selection import train_test_split\n",
    "import numpy as np\n",
    "import matplotlib.pyplot as plt\n",
    "from tensorflow import image\n",
    "import tensorflow as tf\n",
    "import pandas as pd\n",
    "import numpy as np\n",
    "import matplotlib.pyplot as plt\n",
    "from tensorflow.contrib import rnn\n"
   ]
  },
  {
   "cell_type": "code",
   "execution_count": 2,
   "metadata": {
    "collapsed": true
   },
   "outputs": [],
   "source": [
    "# Reads an image from a file, decodes it into a dense tensor, and resizes it\n",
    "# to a fixed shape.\n",
    "def _parse_function(filename, label):\n",
    "    image_string = tf.read_file(filename)\n",
    "    image_decoded = tf.image.decode_jpeg(image_string, channels = 1)\n",
    "    image_resized = tf.image.resize_images(image_decoded, [920, 920])\n",
    "    return image_resized, label"
   ]
  },
  {
   "cell_type": "code",
   "execution_count": 6,
   "metadata": {},
   "outputs": [],
   "source": [
    "# import data from generated images and csv files\n",
    "numTrials = 1\n",
    "numTimeSteps = 20\n",
    "dt = .5\n",
    "for trial in range(numTrials):\n",
    "    directory = r\"C:/dev/starTrack/data/trial\" + str(trial) + \"/\"\n",
    "    \n",
    "    # input data filenames\n",
    "    inputFilenameList = []\n",
    "    tInit = 0.0\n",
    "    inputFP = r\"satFOV/\"\n",
    "    for j in range(numTimeSteps):\n",
    "        t = tInit + .5*j\n",
    "        filename = directory + inputFP + \"t\" + str(t) + \".jpg\"\n",
    "        inputFilenameList.append(filename) \n",
    "    \n",
    "    inputFilenames = tf.constant(inputFilenameList)\n",
    "    \n",
    "    # output data \n",
    "    outputFilename = \"rotational_dynamics.csv\"\n",
    "    outputFilepath = directory + outputFilename\n",
    "    outputData = pd.read_csv(outputFilepath)\n",
    "    \n",
    "    # label the images with angular velocities\n",
    "    omega = np.zeros((3, numTimeSteps))\n",
    "    #TODO: the next dataset won't have the space in front of the header names, so remove it\n",
    "    omegaX = outputData[' omegaX'].as_matrix()\n",
    "    omegaY = outputData[' omegaY'].as_matrix()\n",
    "    omegaZ = outputData[' omegaZ'].as_matrix()\n",
    "    \n",
    "    # labels[:,i] is the label for the image in filenames[i]\n",
    "    for j in range(numTimeSteps):\n",
    "            omega[0,j] = omegaX[j]\n",
    "            omega[1,j] = omegaY[j]\n",
    "            omega[2,j] = omegaZ[j]\n",
    "    omega = np.reshape(omega, (3, numTimeSteps))\n",
    "    labels = tf.constant(omega.T)\n",
    "    dataset = tf.data.Dataset.from_tensor_slices((inputFilenames, labels))\n",
    "    dataset = dataset.map(_parse_function)"
   ]
  },
  {
   "cell_type": "code",
   "execution_count": 8,
   "metadata": {},
   "outputs": [
    {
     "name": "stdout",
     "output_type": "stream",
     "text": [
      "(TensorShape([Dimension(920), Dimension(920), Dimension(1)]), TensorShape([Dimension(3)]))\n",
      "(tf.float32, tf.float64)\n"
     ]
    }
   ],
   "source": [
    "print(dataset.output_shapes)\n",
    "\n",
    "print(dataset.output_types)"
   ]
  },
  {
   "cell_type": "code",
   "execution_count": 9,
   "metadata": {},
   "outputs": [],
   "source": [
    "'''\n",
    "from tensorflow.examples.tutorials.mnist import input_data\n",
    "mnist=input_data.read_data_sets(\"/tmp/data/\",one_hot=True)\n",
    "'''\n",
    "\n",
    "#define constants\n",
    "#unrolled through 28 time steps\n",
    "time_steps = numTimeSteps\n",
    "\n",
    "#hidden LSTM units\n",
    "num_units=128\n",
    "\n",
    "#rows of 28 pixels\n",
    "n_input=28\n",
    "\n",
    "#learning rate for adam\n",
    "learning_rate=0.001\n",
    "\n",
    "#mnist is meant to be classified in 10 classes(0-9).\n",
    "n_classes=10\n",
    "\n",
    "#size of batch\n",
    "batch_size=128\n"
   ]
  },
  {
   "cell_type": "code",
   "execution_count": 10,
   "metadata": {
    "collapsed": true
   },
   "outputs": [],
   "source": [
    "#weights and biases of appropriate shape to accomplish above task\n",
    "out_weights=tf.Variable(tf.random_normal([num_units,n_classes]))\n",
    "out_bias=tf.Variable(tf.random_normal([n_classes]))\n",
    "\n",
    "#defining placeholders\n",
    "#input image placeholder\n",
    "x=tf.placeholder(\"float\",[None,time_steps,n_input])\n",
    "#input label placeholder\n",
    "y=tf.placeholder(\"float\",[None,n_classes])\n",
    "\n",
    "#processing the input tensor from [batch_size,n_steps,n_input] to \"time_steps\" number of [batch_size,n_input] tensors\n",
    "input=tf.unstack(x ,time_steps,1)\n"
   ]
  },
  {
   "cell_type": "code",
   "execution_count": null,
   "metadata": {
    "collapsed": true
   },
   "outputs": [],
   "source": [
    "\n",
    "#defining the network\n",
    "lstm_layer=rnn.BasicLSTMCell(num_units,forget_bias=1)\n",
    "outputs,_=rnn.static_rnn(lstm_layer,input,dtype=\"float32\")\n"
   ]
  }
 ],
 "metadata": {
  "kernelspec": {
   "display_name": "Python 3",
   "language": "python",
   "name": "python3"
  },
  "language_info": {
   "codemirror_mode": {
    "name": "ipython",
    "version": 3
   },
   "file_extension": ".py",
   "mimetype": "text/x-python",
   "name": "python",
   "nbconvert_exporter": "python",
   "pygments_lexer": "ipython3",
   "version": "3.6.3"
  }
 },
 "nbformat": 4,
 "nbformat_minor": 2
}
